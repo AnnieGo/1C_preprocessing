{
 "cells": [
  {
   "cell_type": "markdown",
   "id": "b3ee01ae",
   "metadata": {},
   "source": [
    "Обработка отчета по проводкам из 1С"
   ]
  },
  {
   "cell_type": "code",
   "execution_count": 2,
   "id": "1f6ebde8",
   "metadata": {},
   "outputs": [],
   "source": [
    "import pandas as pd\n",
    "import numpy as np"
   ]
  },
  {
   "cell_type": "code",
   "execution_count": 4,
   "id": "e3cc0d97",
   "metadata": {},
   "outputs": [],
   "source": [
    "# read excel file downloaded from 1C accounting system\n",
    "# delete null rows and columns\n",
    "filename = 'Им_Отчет_по_проводкам_за_01_10_2022_24_10_2022.xlsx'\n",
    "df = pd.read_excel(filename, \n",
    "                    skiprows=5, \n",
    "                    header=0, \n",
    "                    names = ['date', 'document', 'dr_description', 'cr_description', \n",
    "                             'dr_account', 'dr_amount', 'to_del', 'cr_account', 'cr_amount'],\n",
    "                 )\n",
    "df.drop('to_del', axis=1, inplace=True, errors='ignore')\n",
    "df.drop(0, axis=0, inplace=True, errors='ignore')\n",
    "df.drop(len(df.index), axis=0, inplace=True, errors='ignore') #delete last row with total sum"
   ]
  },
  {
   "cell_type": "code",
   "execution_count": 5,
   "id": "728c75b8",
   "metadata": {},
   "outputs": [],
   "source": [
    "#df['date'] = pd.to_datetime(df['date'], infer_datetime_format=True, utc=True, errors='ignore')\n",
    "df['date'] = pd.to_datetime(df['date'], dayfirst=True)\n",
    "df['year'] = pd.DatetimeIndex(df['date']).year\n",
    "df['month'] = pd.DatetimeIndex(df['date']).month"
   ]
  },
  {
   "cell_type": "code",
   "execution_count": 6,
   "id": "1e647d5b",
   "metadata": {},
   "outputs": [],
   "source": [
    "# divide column with 3 descriptions into 3 columns\n",
    "df[['dr_1', 'dr_2', 'dr_3']] = df['dr_description'].str.split('\\n',expand=True)\n",
    "df[['cr_1', 'cr_2', 'cr_3']] = df['cr_description'].str.split('\\n',expand=True)"
   ]
  },
  {
   "cell_type": "code",
   "execution_count": 5,
   "id": "64c1e029",
   "metadata": {},
   "outputs": [],
   "source": [
    "#add group company name\n",
    "df['group_company'] = 'Company_1' "
   ]
  },
  {
   "cell_type": "code",
   "execution_count": 14,
   "id": "9836a7a1",
   "metadata": {},
   "outputs": [],
   "source": [
    "# add short account without subaccounts\n",
    "df['dr_acc_short'] = df['dr_account'].str.split('.').str[0]\n",
    "df['cr_acc_short'] = df['cr_account'].str.split('.').str[0]\n",
    "df['dr_acc_short'] = df['dr_acc_short'].astype('int')\n",
    "df['cr_acc_short'] = df['cr_acc_short'].astype('int')"
   ]
  },
  {
   "cell_type": "code",
   "execution_count": 16,
   "id": "703a3b90",
   "metadata": {},
   "outputs": [],
   "source": [
    "# classify transactions\n",
    "conditions = [\n",
    "    (df.dr_acc_short == 26),\n",
    "    (df.dr_acc_short == 91),\n",
    "    (df.dr_acc_short != 51) & (df.cr_acc_short == 70),\n",
    "    (df.dr_acc_short == 62) | (df.dr_acc_short == 90),\n",
    "    (df.dr_acc_short == 51) & (df.dr_acc_short == 62)\n",
    "]\n",
    " \n",
    "values = ['admin_expenses', 'other_expenses', 'payroll', 'revenue_accrual', 'revenue_cash']\n",
    "\n",
    "df['acc_type'] = np.select(conditions, values)\n"
   ]
  },
  {
   "cell_type": "code",
   "execution_count": 13,
   "id": "048ff0fd",
   "metadata": {},
   "outputs": [
    {
     "data": {
      "text/plain": [
       "date              datetime64[ns]\n",
       "document                  object\n",
       "dr_description            object\n",
       "cr_description            object\n",
       "dr_account                object\n",
       "dr_amount                float64\n",
       "cr_account                object\n",
       "cr_amount                float64\n",
       "year                       int64\n",
       "month                      int64\n",
       "dr_1                      object\n",
       "dr_2                      object\n",
       "dr_3                      object\n",
       "cr_1                      object\n",
       "cr_2                      object\n",
       "cr_3                      object\n",
       "group_company             object\n",
       "dr_acc_short               int32\n",
       "cr_acc_short              object\n",
       "acc_type                  object\n",
       "dtype: object"
      ]
     },
     "execution_count": 13,
     "metadata": {},
     "output_type": "execute_result"
    }
   ],
   "source": [
    "df.dtypes #check data types"
   ]
  }
 ],
 "metadata": {
  "kernelspec": {
   "display_name": "Python 3 (ipykernel)",
   "language": "python",
   "name": "python3"
  },
  "language_info": {
   "codemirror_mode": {
    "name": "ipython",
    "version": 3
   },
   "file_extension": ".py",
   "mimetype": "text/x-python",
   "name": "python",
   "nbconvert_exporter": "python",
   "pygments_lexer": "ipython3",
   "version": "3.9.12"
  }
 },
 "nbformat": 4,
 "nbformat_minor": 5
}
